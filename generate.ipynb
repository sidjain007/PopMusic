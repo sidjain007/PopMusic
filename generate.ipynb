{
 "cells": [
  {
   "cell_type": "code",
   "execution_count": 1,
   "metadata": {},
   "outputs": [],
   "source": [
    "import os\n",
    "import re\n",
    "import string\n",
    "import random\n",
    "import pickle"
   ]
  },
  {
   "cell_type": "markdown",
   "metadata": {},
   "source": [
    "#### Set loadFromPickle to True if using the pickled corpus"
   ]
  },
  {
   "cell_type": "code",
   "execution_count": 2,
   "metadata": {},
   "outputs": [],
   "source": [
    "# Defines\n",
    "loadFromPickle = True\n",
    "\n",
    "pathToCorpus = './pickles/corpus.pkl'\n",
    "pathToLyrics = './lyrics/'\n",
    "tokenPattern = \"\\\\b[a-zA-Z]+\\\\b\"\n",
    "regex = re.compile(tokenPattern)"
   ]
  },
  {
   "cell_type": "code",
   "execution_count": 3,
   "metadata": {
    "scrolled": true
   },
   "outputs": [],
   "source": [
    "if loadFromPickle:\n",
    "    corpus = pickle.load(open(pathToCorpus, \"rb\"))\n",
    "else:\n",
    "    corpus = []\n",
    "    # loop through artist subfolders in lyrics folder\n",
    "    for subdir, dirs, files in os.walk(pathToLyrics):\n",
    "        if subdir == pathToLyrics:\n",
    "            continue\n",
    "\n",
    "        for file in files:\n",
    "            try:\n",
    "                fh = open(subdir + '/' + file, \"r\")\n",
    "                s = fh.read()\n",
    "                fh.close()\n",
    "            except:\n",
    "                continue  # skip if error opening file\n",
    "\n",
    "            lyrics = s[s.index('\\n') + 1:]  # drop song title\n",
    "            stanza = \"\"\n",
    "            for line in lyrics.splitlines():\n",
    "                # preprocess words and rebuild line\n",
    "                line = line.translate({ord(char):'' for char in string.punctuation}).lower()\n",
    "                words = regex.findall(line)\n",
    "                stanza += ' '.join(words) + '\\n'\n",
    "                if len(words) == 0:  # this is a blank line, meaning end of stanza\n",
    "                    corpus.append(stanza)\n",
    "                    stanza = \"\"\n",
    "            if stanza != \"\":  # add song's last stanza\n",
    "                corpus.append(stanza)\n",
    "    # save corpus\n",
    "    pickle.dump(corpus, open(pathToCorpus, \"wb\"))"
   ]
  },
  {
   "cell_type": "code",
   "execution_count": 4,
   "metadata": {},
   "outputs": [],
   "source": [
    "def buildMarkov(corpus, markov):\n",
    "    \"\"\"\n",
    "    Populates states and transitions of the bigram markov model with corpus data (a list of lyric stanzas)\n",
    "    \"\"\"\n",
    "\n",
    "    for stanza in corpus:\n",
    "        words = [\"__START__\", \"__START__\"] + stanza.replace(\"\\n\", \" __NL__ \").split()\n",
    "        words[-1] = \"__END__\"  # replace last newline char with stanza END tag\n",
    "        for i in range(2, len(words)):\n",
    "            state = (words[i-2], words[i-1])\n",
    "            if state not in markov:\n",
    "                markov[state] = [words[i]]\n",
    "            else:\n",
    "                markov[state].append(words[i])"
   ]
  },
  {
   "cell_type": "code",
   "execution_count": 5,
   "metadata": {},
   "outputs": [],
   "source": [
    "def generate(markov, maxWords=50):\n",
    "    \"\"\"\n",
    "    Generates a stanza of lyrics using the bigram markov model\n",
    "    \"\"\"\n",
    "\n",
    "    words = [\"__START__\", \"__START__\"]\n",
    "    nxt = \"\"\n",
    "    while nxt != \"__END__\" and len(words) < (maxWords + 2):\n",
    "        state = (words[-2], words[-1])\n",
    "        nxt = random.choice(markov[state])\n",
    "        words.append(nxt)\n",
    "    return \" \" + \" \".join(words[2:-1]).replace(\"__NL__\", \"\\n\")"
   ]
  },
  {
   "cell_type": "code",
   "execution_count": 6,
   "metadata": {},
   "outputs": [],
   "source": [
    "markov = {}\n",
    "buildMarkov(corpus, markov)"
   ]
  },
  {
   "cell_type": "markdown",
   "metadata": {},
   "source": [
    "#### Run below cell to generate a stanza of modern pop lyrics "
   ]
  },
  {
   "cell_type": "code",
   "execution_count": 7,
   "metadata": {
    "scrolled": true
   },
   "outputs": [
    {
     "name": "stdout",
     "output_type": "stream",
     "text": [
      " jigga jigga \n",
      " thats all they know \n",
      " and im like baby baby \n",
      " you tried to find out how you sigh in my socks \n",
      " music in me loves the best of me \n",
      " burns like the way she dances \n",
      " i fall \n",
      "\n"
     ]
    }
   ],
   "source": [
    "print(generate(markov))"
   ]
  }
 ],
 "metadata": {
  "kernelspec": {
   "display_name": "Python 3",
   "language": "python",
   "name": "python3"
  },
  "language_info": {
   "codemirror_mode": {
    "name": "ipython",
    "version": 3
   },
   "file_extension": ".py",
   "mimetype": "text/x-python",
   "name": "python",
   "nbconvert_exporter": "python",
   "pygments_lexer": "ipython3",
   "version": "3.7.6"
  }
 },
 "nbformat": 4,
 "nbformat_minor": 2
}
